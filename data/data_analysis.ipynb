{
 "cells": [
  {
   "cell_type": "code",
   "execution_count": 1,
   "metadata": {},
   "outputs": [
    {
     "name": "stdout",
     "output_type": "stream",
     "text": [
      "Dataset goodreads_interactions.csv has been downloaded.\n"
     ]
    }
   ],
   "source": [
    "from data_preparation import download_by_name\n",
    "\n",
    "download_by_name(\"goodreads\", \"goodreads_interactions.csv\")"
   ]
  }
 ],
 "metadata": {
  "kernelspec": {
   "display_name": "Python 3.12.2 ('venv': venv)",
   "language": "python",
   "name": "python3"
  },
  "language_info": {
   "codemirror_mode": {
    "name": "ipython",
    "version": 3
   },
   "file_extension": ".py",
   "mimetype": "text/x-python",
   "name": "python",
   "nbconvert_exporter": "python",
   "pygments_lexer": "ipython3",
   "version": "3.12.2"
  },
  "orig_nbformat": 4,
  "vscode": {
   "interpreter": {
    "hash": "2615d48ab7febd4aeeb3e3da73dc9ba6ab080c60069f72e5d99f57c0f1c2fd0c"
   }
  }
 },
 "nbformat": 4,
 "nbformat_minor": 2
}
