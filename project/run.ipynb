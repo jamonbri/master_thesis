{
 "cells": [
  {
   "cell_type": "code",
   "execution_count": null,
   "metadata": {},
   "outputs": [],
   "source": [
    "from model.model import RecommenderSystemModel\n",
    "import warnings\n",
    "warnings.filterwarnings(\"ignore\")"
   ]
  },
  {
   "cell_type": "markdown",
   "metadata": {},
   "source": [
    "### Simulation Runs"
   ]
  },
  {
   "cell_type": "code",
   "execution_count": null,
   "metadata": {},
   "outputs": [],
   "source": [
    "# Initialize benchmark model\n",
    "\n",
    "rec_sys = RecommenderSystemModel(\n",
    "    n_users=150,  \n",
    "    steps=360, \n",
    "    seed=12345\n",
    ")"
   ]
  },
  {
   "cell_type": "code",
   "execution_count": null,
   "metadata": {},
   "outputs": [],
   "source": [
    "# Run benchmark model\n",
    "\n",
    "rec_sys.run_model()"
   ]
  },
  {
   "cell_type": "code",
   "execution_count": null,
   "metadata": {},
   "outputs": [],
   "source": [
    "# Initialize random model at 10%\n",
    "\n",
    "rec_sys_random_10 = RecommenderSystemModel(\n",
    "    n_users=150,  \n",
    "    steps=360, \n",
    "    seed=12345,\n",
    "    priority=0.1\n",
    ")"
   ]
  },
  {
   "cell_type": "code",
   "execution_count": null,
   "metadata": {},
   "outputs": [],
   "source": [
    "# Run random model at 10%\n",
    "\n",
    "rec_sys_random_10.run_model()"
   ]
  },
  {
   "cell_type": "code",
   "execution_count": null,
   "metadata": {},
   "outputs": [],
   "source": [
    "# Initialize 'fantasy' model\n",
    "\n",
    "rec_sys_fantasy = RecommenderSystemModel(\n",
    "    n_users=150,  \n",
    "    steps=360, \n",
    "    seed=12345,\n",
    "    priority=\"fantasy\"\n",
    ")"
   ]
  },
  {
   "cell_type": "code",
   "execution_count": null,
   "metadata": {},
   "outputs": [],
   "source": [
    "# Run 'fantasy' model\n",
    "\n",
    "rec_sys_fantasy.run_model()"
   ]
  }
 ],
 "metadata": {
  "kernelspec": {
   "display_name": "Python 3.12.2 ('venv': venv)",
   "language": "python",
   "name": "python3"
  },
  "language_info": {
   "name": "python",
   "version": "3.12.2"
  },
  "orig_nbformat": 4,
  "vscode": {
   "interpreter": {
    "hash": "2615d48ab7febd4aeeb3e3da73dc9ba6ab080c60069f72e5d99f57c0f1c2fd0c"
   }
  }
 },
 "nbformat": 4,
 "nbformat_minor": 2
}
