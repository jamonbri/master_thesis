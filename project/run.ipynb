{
 "cells": [
  {
   "cell_type": "code",
   "execution_count": 1,
   "metadata": {},
   "outputs": [],
   "source": [
    "from model.model import RecommenderSystemModel\n",
    "from data.data_preparation import get_model_df\n",
    "from datetime import date\n",
    "import warnings\n",
    "import pandas as pd\n",
    "warnings.filterwarnings(\"ignore\")"
   ]
  },
  {
   "cell_type": "markdown",
   "metadata": {},
   "source": [
    "### Simulation Runs"
   ]
  },
  {
   "cell_type": "code",
   "execution_count": 2,
   "metadata": {},
   "outputs": [],
   "source": [
    "# Simulation setup\n",
    "\n",
    "n_users = 150\n",
    "steps = 500\n",
    "today = date.today()\n",
    "number_of_runs = 20\n",
    "seed = 123321"
   ]
  },
  {
   "cell_type": "code",
   "execution_count": 3,
   "metadata": {},
   "outputs": [
    {
     "name": "stdout",
     "output_type": "stream",
     "text": [
      "Loading data...\n",
      "    - Users loaded\n",
      "    - Items loaded\n",
      "    - Model dataframe ready. Interactions: 5196\n"
     ]
    }
   ],
   "source": [
    "# Static data gathering\n",
    "\n",
    "df = get_model_df(n_users=n_users, seed=seed)\n",
    "df.to_csv(f\"data/results/static_model_df_{today}.csv\")"
   ]
  },
  {
   "cell_type": "code",
   "execution_count": 4,
   "metadata": {},
   "outputs": [
    {
     "name": "stdout",
     "output_type": "stream",
     "text": [
      "Running benchmark model run # 0\n",
      "Running benchmark model run # 1\n",
      "Running benchmark model run # 2\n",
      "Running benchmark model run # 3\n",
      "Running benchmark model run # 4\n",
      "Running benchmark model run # 5\n",
      "Running benchmark model run # 6\n",
      "Running benchmark model run # 7\n",
      "Running benchmark model run # 8\n",
      "Running benchmark model run # 9\n",
      "Running benchmark model run # 10\n",
      "Running benchmark model run # 11\n",
      "Running benchmark model run # 12\n",
      "Running benchmark model run # 13\n",
      "Running benchmark model run # 14\n",
      "Running benchmark model run # 15\n",
      "Running benchmark model run # 16\n",
      "Running benchmark model run # 17\n",
      "Running benchmark model run # 18\n",
      "Running benchmark model run # 19\n",
      "Step 500/500 executed.\n",
      "Benchmark Model Simulation Finished!\n"
     ]
    }
   ],
   "source": [
    "# Run benchmark model\n",
    "\n",
    "if \"df\" not in globals():\n",
    "    df = pd.read_csv(f\"data/results/static_model_df_{today}.csv\")\n",
    "\n",
    "for run in range(number_of_runs):\n",
    "    print(f\"Running benchmark model run # {run}\")\n",
    "    rec_sys = RecommenderSystemModel(\n",
    "        n_users=n_users, \n",
    "        df=df, \n",
    "        steps=steps, \n",
    "        seed=seed\n",
    "    )\n",
    "    rec_sys.run_model()\n",
    "print(\"\\nBenchmark Model Simulation Finished!\")\n"
   ]
  },
  {
   "cell_type": "code",
   "execution_count": null,
   "metadata": {},
   "outputs": [],
   "source": [
    "# Run covert model\n",
    "\n",
    "if \"df\" not in globals():\n",
    "    df = pd.read_csv(f\"data/results/static_model_df_{today}.csv\")\n",
    "\n",
    "for run in range(number_of_runs):\n",
    "    print(f\"Running covert model run # {run}\")\n",
    "    rec_sys = RecommenderSystemModel(\n",
    "        n_users=n_users,\n",
    "        df=df,  \n",
    "        priority=\"thriller\",\n",
    "        steps=steps, \n",
    "        seed=seed\n",
    "    )\n",
    "    rec_sys.run_model()\n",
    "print(\"\\nCovert Model Simulation Finished!\")"
   ]
  },
  {
   "cell_type": "code",
   "execution_count": null,
   "metadata": {},
   "outputs": [],
   "source": [
    "# Run overt model\n",
    "\n",
    "if \"df\" not in globals():\n",
    "    df = pd.read_csv(f\"data/results/static_model_df_{today}.csv\")\n",
    "\n",
    "for run in range(number_of_runs):\n",
    "    print(f\"Running overt model run # {run}\")\n",
    "    rec_sys = RecommenderSystemModel(\n",
    "        n_users=n_users,\n",
    "        df=df,  \n",
    "        priority=\"thriller\",\n",
    "        ignorant_proportion=0.2,\n",
    "        steps=steps, \n",
    "        seed=seed\n",
    "    )\n",
    "    rec_sys.run_model()\n",
    "print(\"\\nOvert Model Simulation Finished!\")"
   ]
  },
  {
   "cell_type": "code",
   "execution_count": null,
   "metadata": {},
   "outputs": [],
   "source": [
    "# Run overt model with social influence\n",
    "\n",
    "if \"df\" not in globals():\n",
    "    df = pd.read_csv(f\"data/results/static_model_df_{today}.csv\")\n",
    "\n",
    "for run in range(number_of_runs):\n",
    "    print(f\"Running overt model with social influence run # {run}\")\n",
    "    rec_sys = RecommenderSystemModel(\n",
    "        n_users=n_users,\n",
    "        df=df,  \n",
    "        priority=\"thriller\",\n",
    "        ignorant_proportion=0.2,\n",
    "        social_influence=True,\n",
    "        steps=steps, \n",
    "        seed=seed\n",
    "    )\n",
    "    rec_sys.run_model()\n",
    "print(\"\\nOvert Model With Social Influence Simulation Finished!\")"
   ]
  }
 ],
 "metadata": {
  "kernelspec": {
   "display_name": "Python 3.12.2 ('venv': venv)",
   "language": "python",
   "name": "python3"
  },
  "language_info": {
   "codemirror_mode": {
    "name": "ipython",
    "version": 3
   },
   "file_extension": ".py",
   "mimetype": "text/x-python",
   "name": "python",
   "nbconvert_exporter": "python",
   "pygments_lexer": "ipython3",
   "version": "3.12.2"
  },
  "orig_nbformat": 4,
  "vscode": {
   "interpreter": {
    "hash": "2615d48ab7febd4aeeb3e3da73dc9ba6ab080c60069f72e5d99f57c0f1c2fd0c"
   }
  }
 },
 "nbformat": 4,
 "nbformat_minor": 2
}
