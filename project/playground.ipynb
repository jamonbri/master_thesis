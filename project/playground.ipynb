{
 "cells": [
  {
   "cell_type": "markdown",
   "metadata": {},
   "source": [
    "### Load datasets"
   ]
  },
  {
   "cell_type": "code",
   "execution_count": 1,
   "metadata": {},
   "outputs": [],
   "source": [
    "from data.data_preparation import get_model_df, get_users_df, get_items_df\n",
    "from model.model import RecommenderSystemModel\n",
    "from utils import string_to_array, string_to_dict\n",
    "import matplotlib.pyplot as plt\n",
    "import pandas as pd\n",
    "from sklearn.metrics.pairwise import cosine_similarity\n",
    "import warnings\n",
    "warnings.filterwarnings(\"ignore\")"
   ]
  },
  {
   "cell_type": "code",
   "execution_count": 2,
   "metadata": {},
   "outputs": [],
   "source": [
    "df_interactions = pd.read_csv(\"data/results/2024-05-30_1/initial_interactions_1.csv\")\n",
    "df_items = pd.read_csv(\"data/results/2024-05-30_1/initial_items_1.csv\", index_col=\"book_id\")\n",
    "df_items[\"vector\"] = df_items[\"vector\"].apply(string_to_array)\n",
    "# df_users = pd.read_csv(\"data/results/2024-05-30_1/initial_users_1.csv\", index_col=\"user_id\")\n",
    "# df_users[\"vector\"] = df_users[\"vector\"].apply(string_to_array)\n",
    "# df_users[\"book_id\"] = df_users[\"book_id\"].apply(string_to_dict)"
   ]
  },
  {
   "cell_type": "code",
   "execution_count": 3,
   "metadata": {},
   "outputs": [
    {
     "name": "stdout",
     "output_type": "stream",
     "text": [
      "Getting users dataframe...\n",
      "    - Users dataframe ready. Users: 150\n"
     ]
    }
   ],
   "source": [
    "df_users = get_users_df(df_interactions, df_items, 50, [5, 20, 50], 50, True)"
   ]
  },
  {
   "cell_type": "code",
   "execution_count": 4,
   "metadata": {},
   "outputs": [
    {
     "data": {
      "text/html": [
       "<div>\n",
       "<style scoped>\n",
       "    .dataframe tbody tr th:only-of-type {\n",
       "        vertical-align: middle;\n",
       "    }\n",
       "\n",
       "    .dataframe tbody tr th {\n",
       "        vertical-align: top;\n",
       "    }\n",
       "\n",
       "    .dataframe thead th {\n",
       "        text-align: right;\n",
       "    }\n",
       "</style>\n",
       "<table border=\"1\" class=\"dataframe\">\n",
       "  <thead>\n",
       "    <tr style=\"text-align: right;\">\n",
       "      <th></th>\n",
       "      <th>is_reviewed</th>\n",
       "      <th>is_read</th>\n",
       "      <th>rating</th>\n",
       "      <th>book_id</th>\n",
       "      <th>ignorant</th>\n",
       "      <th>vector</th>\n",
       "      <th>read_proba</th>\n",
       "      <th>similarities</th>\n",
       "      <th>following</th>\n",
       "    </tr>\n",
       "    <tr>\n",
       "      <th>user_id</th>\n",
       "      <th></th>\n",
       "      <th></th>\n",
       "      <th></th>\n",
       "      <th></th>\n",
       "      <th></th>\n",
       "      <th></th>\n",
       "      <th></th>\n",
       "      <th></th>\n",
       "      <th></th>\n",
       "    </tr>\n",
       "  </thead>\n",
       "  <tbody>\n",
       "    <tr>\n",
       "      <th>8916</th>\n",
       "      <td>0</td>\n",
       "      <td>41</td>\n",
       "      <td>0.570909</td>\n",
       "      <td>{536: 0.6214, 943: 0.3509, 1007: 0.3509, 1000:...</td>\n",
       "      <td>False</td>\n",
       "      <td>[[19, 28, 17, 6, 5, 17, 19, 9, 29, 29, 29, 5, ...</td>\n",
       "      <td>0.70</td>\n",
       "      <td>{278488: 0.911, 3974: 0.8814, 7673: 0.8799, 16...</td>\n",
       "      <td>[225902, 474410, 659623, 385760, 862034]</td>\n",
       "    </tr>\n",
       "    <tr>\n",
       "      <th>26967</th>\n",
       "      <td>14</td>\n",
       "      <td>29</td>\n",
       "      <td>0.582222</td>\n",
       "      <td>{1079: 0.2168, 21093: 0.4676, 1457: 0.7235, 25...</td>\n",
       "      <td>False</td>\n",
       "      <td>[[9, 25, 10, 4, 7, 10, 9, 6, 27, 27, 27, 7, 7,...</td>\n",
       "      <td>0.70</td>\n",
       "      <td>{14831: 0.932, 278488: 0.9303, 1182496: 0.9172...</td>\n",
       "      <td>[259263, 402878, 226944, 119589, 225902]</td>\n",
       "    </tr>\n",
       "    <tr>\n",
       "      <th>39093</th>\n",
       "      <td>3</td>\n",
       "      <td>45</td>\n",
       "      <td>0.437500</td>\n",
       "      <td>{58345: 0.6171, 7170: 0.4887, 24221: 0.423, 13...</td>\n",
       "      <td>False</td>\n",
       "      <td>[[22, 39, 11, 11, 9, 11, 22, 13, 47, 47, 47, 9...</td>\n",
       "      <td>0.70</td>\n",
       "      <td>{278488: 0.94, 14831: 0.9354, 7051: 0.9119, 69...</td>\n",
       "      <td>[147498, 87618, 119589, 253227, 803880]</td>\n",
       "    </tr>\n",
       "    <tr>\n",
       "      <th>57096</th>\n",
       "      <td>0</td>\n",
       "      <td>32</td>\n",
       "      <td>0.380282</td>\n",
       "      <td>{17239: 0.7605, 7323: 0.2018, 21422: 0.6813, 6...</td>\n",
       "      <td>False</td>\n",
       "      <td>[[32, 22, 21, 21, 8, 21, 32, 20, 34, 34, 34, 8...</td>\n",
       "      <td>0.70</td>\n",
       "      <td>{7673: 0.9067, 37034: 0.8854, 3974: 0.876, 854...</td>\n",
       "      <td>[385303, 195578, 200968, 649447, 739897]</td>\n",
       "    </tr>\n",
       "    <tr>\n",
       "      <th>87105</th>\n",
       "      <td>2</td>\n",
       "      <td>3</td>\n",
       "      <td>0.042857</td>\n",
       "      <td>{1687978: 0.8091, 519596: 0.3623, 581601: 0.81...</td>\n",
       "      <td>False</td>\n",
       "      <td>[[9, 33, 4, 11, 4, 4, 9, 10, 31, 31, 31, 4, 4,...</td>\n",
       "      <td>0.05</td>\n",
       "      <td>{14831: 0.953, 1182496: 0.9431, 7897: 0.9344, ...</td>\n",
       "      <td>[512120, 524976, 469134, 463361, 191253]</td>\n",
       "    </tr>\n",
       "  </tbody>\n",
       "</table>\n",
       "</div>"
      ],
      "text/plain": [
       "         is_reviewed  is_read    rating  \\\n",
       "user_id                                   \n",
       "8916               0       41  0.570909   \n",
       "26967             14       29  0.582222   \n",
       "39093              3       45  0.437500   \n",
       "57096              0       32  0.380282   \n",
       "87105              2        3  0.042857   \n",
       "\n",
       "                                                   book_id  ignorant  \\\n",
       "user_id                                                                \n",
       "8916     {536: 0.6214, 943: 0.3509, 1007: 0.3509, 1000:...     False   \n",
       "26967    {1079: 0.2168, 21093: 0.4676, 1457: 0.7235, 25...     False   \n",
       "39093    {58345: 0.6171, 7170: 0.4887, 24221: 0.423, 13...     False   \n",
       "57096    {17239: 0.7605, 7323: 0.2018, 21422: 0.6813, 6...     False   \n",
       "87105    {1687978: 0.8091, 519596: 0.3623, 581601: 0.81...     False   \n",
       "\n",
       "                                                    vector  read_proba  \\\n",
       "user_id                                                                  \n",
       "8916     [[19, 28, 17, 6, 5, 17, 19, 9, 29, 29, 29, 5, ...        0.70   \n",
       "26967    [[9, 25, 10, 4, 7, 10, 9, 6, 27, 27, 27, 7, 7,...        0.70   \n",
       "39093    [[22, 39, 11, 11, 9, 11, 22, 13, 47, 47, 47, 9...        0.70   \n",
       "57096    [[32, 22, 21, 21, 8, 21, 32, 20, 34, 34, 34, 8...        0.70   \n",
       "87105    [[9, 33, 4, 11, 4, 4, 9, 10, 31, 31, 31, 4, 4,...        0.05   \n",
       "\n",
       "                                              similarities  \\\n",
       "user_id                                                      \n",
       "8916     {278488: 0.911, 3974: 0.8814, 7673: 0.8799, 16...   \n",
       "26967    {14831: 0.932, 278488: 0.9303, 1182496: 0.9172...   \n",
       "39093    {278488: 0.94, 14831: 0.9354, 7051: 0.9119, 69...   \n",
       "57096    {7673: 0.9067, 37034: 0.8854, 3974: 0.876, 854...   \n",
       "87105    {14831: 0.953, 1182496: 0.9431, 7897: 0.9344, ...   \n",
       "\n",
       "                                        following  \n",
       "user_id                                            \n",
       "8916     [225902, 474410, 659623, 385760, 862034]  \n",
       "26967    [259263, 402878, 226944, 119589, 225902]  \n",
       "39093     [147498, 87618, 119589, 253227, 803880]  \n",
       "57096    [385303, 195578, 200968, 649447, 739897]  \n",
       "87105    [512120, 524976, 469134, 463361, 191253]  "
      ]
     },
     "execution_count": 4,
     "metadata": {},
     "output_type": "execute_result"
    }
   ],
   "source": [
    "df_users.head()"
   ]
  },
  {
   "cell_type": "code",
   "execution_count": 4,
   "metadata": {},
   "outputs": [
    {
     "name": "stdout",
     "output_type": "stream",
     "text": [
      "Initializing model...\n",
      "\n",
      "Creating user agents...\n",
      "    - Users added\n",
      "Creating item agents...\n",
      "    - Items added\n",
      "Finished model initialization!\n"
     ]
    }
   ],
   "source": [
    "rec_sys = RecommenderSystemModel(\n",
    "    n_users=150, \n",
    "    steps=10, \n",
    "    ignorant_proportion=0.2,\n",
    "    df=df_interactions,\n",
    "    df_items=df_items,\n",
    "    df_users=df_users,\n",
    "    initial_store_path=\"data/results/2024-05-30_1\",\n",
    "    social_influence=True\n",
    ")"
   ]
  },
  {
   "cell_type": "code",
   "execution_count": 5,
   "metadata": {},
   "outputs": [
    {
     "name": "stdout",
     "output_type": "stream",
     "text": [
      "Step 10/10 executed.\n",
      "df raw stored\n"
     ]
    }
   ],
   "source": [
    "rec_sys.run_model()"
   ]
  },
  {
   "cell_type": "code",
   "execution_count": 35,
   "metadata": {},
   "outputs": [],
   "source": [
    "results = pd.read_csv(\"data/results/2024-05-30_1/run_raw_1.csv\")\n",
    "user_results = results[(results[\"agent_type\"] == \"UserAgent\") & (results[\"Step\"] == 10)]\n",
    "user_results[\"user_books_consumed\"] = user_results[\"user_books_consumed\"].apply(eval)"
   ]
  },
  {
   "cell_type": "code",
   "execution_count": 36,
   "metadata": {},
   "outputs": [],
   "source": [
    "user_results[\"n_books_consumed\"] = user_results[\"user_books_consumed\"].apply(len)"
   ]
  },
  {
   "cell_type": "code",
   "execution_count": 47,
   "metadata": {},
   "outputs": [
    {
     "data": {
      "text/plain": [
       "count    150.000000\n",
       "mean       3.186667\n",
       "std        2.897318\n",
       "min        0.000000\n",
       "25%        1.000000\n",
       "50%        2.000000\n",
       "75%        5.750000\n",
       "max       10.000000\n",
       "Name: n_books_consumed, dtype: float64"
      ]
     },
     "execution_count": 47,
     "metadata": {},
     "output_type": "execute_result"
    }
   ],
   "source": [
    "user_results[\"n_books_consumed\"].describe()"
   ]
  },
  {
   "cell_type": "code",
   "execution_count": 19,
   "metadata": {},
   "outputs": [
    {
     "data": {
      "text/plain": [
       "max_position\n",
       "0     187\n",
       "1     666\n",
       "2     167\n",
       "3      36\n",
       "4      80\n",
       "5       0\n",
       "6       0\n",
       "7      54\n",
       "8     300\n",
       "9       0\n",
       "10      0\n",
       "11      0\n",
       "12     71\n",
       "13      0\n",
       "14    146\n",
       "Name: count, dtype: int64"
      ]
     },
     "execution_count": 19,
     "metadata": {},
     "output_type": "execute_result"
    }
   ],
   "source": [
    "all_sums"
   ]
  },
  {
   "cell_type": "code",
   "execution_count": 5,
   "metadata": {},
   "outputs": [
    {
     "data": {
      "text/html": [
       "<div>\n",
       "<style scoped>\n",
       "    .dataframe tbody tr th:only-of-type {\n",
       "        vertical-align: middle;\n",
       "    }\n",
       "\n",
       "    .dataframe tbody tr th {\n",
       "        vertical-align: top;\n",
       "    }\n",
       "\n",
       "    .dataframe thead th {\n",
       "        text-align: right;\n",
       "    }\n",
       "</style>\n",
       "<table border=\"1\" class=\"dataframe\">\n",
       "  <thead>\n",
       "    <tr style=\"text-align: right;\">\n",
       "      <th></th>\n",
       "      <th>is_reviewed</th>\n",
       "      <th>is_read</th>\n",
       "      <th>rating</th>\n",
       "      <th>book_id</th>\n",
       "      <th>vector</th>\n",
       "    </tr>\n",
       "    <tr>\n",
       "      <th>user_id</th>\n",
       "      <th></th>\n",
       "      <th></th>\n",
       "      <th></th>\n",
       "      <th></th>\n",
       "      <th></th>\n",
       "    </tr>\n",
       "  </thead>\n",
       "  <tbody>\n",
       "    <tr>\n",
       "      <th>2413</th>\n",
       "      <td>0.000000</td>\n",
       "      <td>114</td>\n",
       "      <td>0.823077</td>\n",
       "      <td>{14859: 0.3099118836633818, 14839: 0.309911883...</td>\n",
       "      <td>[[34, 61, 25, 21, 9, 25, 34, 24, 66, 66, 66, 9...</td>\n",
       "    </tr>\n",
       "    <tr>\n",
       "      <th>4856</th>\n",
       "      <td>0.000000</td>\n",
       "      <td>277</td>\n",
       "      <td>0.497003</td>\n",
       "      <td>{1000: 0.3833610296025904, 66: 0.8355593997339...</td>\n",
       "      <td>[[109, 177, 90, 74, 50, 90, 109, 69, 200, 200,...</td>\n",
       "    </tr>\n",
       "    <tr>\n",
       "      <th>16557</th>\n",
       "      <td>0.000000</td>\n",
       "      <td>87</td>\n",
       "      <td>0.449730</td>\n",
       "      <td>{7433: 0.6174210974173361, 1001: 0.30633599935...</td>\n",
       "      <td>[[70, 74, 45, 52, 21, 45, 70, 30, 92, 92, 92, ...</td>\n",
       "    </tr>\n",
       "    <tr>\n",
       "      <th>18936</th>\n",
       "      <td>0.041531</td>\n",
       "      <td>92</td>\n",
       "      <td>0.052563</td>\n",
       "      <td>{6418: 0.23855851228023925, 6419: 0.3260143452...</td>\n",
       "      <td>[[384, 704, 345, 275, 160, 345, 384, 305, 775,...</td>\n",
       "    </tr>\n",
       "    <tr>\n",
       "      <th>20075</th>\n",
       "      <td>0.119626</td>\n",
       "      <td>178</td>\n",
       "      <td>0.244112</td>\n",
       "      <td>{87562: 0.3301209163883265, 51358: 0.813092850...</td>\n",
       "      <td>[[138, 238, 124, 110, 47, 124, 138, 118, 292, ...</td>\n",
       "    </tr>\n",
       "  </tbody>\n",
       "</table>\n",
       "</div>"
      ],
      "text/plain": [
       "         is_reviewed  is_read    rating  \\\n",
       "user_id                                   \n",
       "2413        0.000000      114  0.823077   \n",
       "4856        0.000000      277  0.497003   \n",
       "16557       0.000000       87  0.449730   \n",
       "18936       0.041531       92  0.052563   \n",
       "20075       0.119626      178  0.244112   \n",
       "\n",
       "                                                   book_id  \\\n",
       "user_id                                                      \n",
       "2413     {14859: 0.3099118836633818, 14839: 0.309911883...   \n",
       "4856     {1000: 0.3833610296025904, 66: 0.8355593997339...   \n",
       "16557    {7433: 0.6174210974173361, 1001: 0.30633599935...   \n",
       "18936    {6418: 0.23855851228023925, 6419: 0.3260143452...   \n",
       "20075    {87562: 0.3301209163883265, 51358: 0.813092850...   \n",
       "\n",
       "                                                    vector  \n",
       "user_id                                                     \n",
       "2413     [[34, 61, 25, 21, 9, 25, 34, 24, 66, 66, 66, 9...  \n",
       "4856     [[109, 177, 90, 74, 50, 90, 109, 69, 200, 200,...  \n",
       "16557    [[70, 74, 45, 52, 21, 45, 70, 30, 92, 92, 92, ...  \n",
       "18936    [[384, 704, 345, 275, 160, 345, 384, 305, 775,...  \n",
       "20075    [[138, 238, 124, 110, 47, 124, 138, 118, 292, ...  "
      ]
     },
     "execution_count": 5,
     "metadata": {},
     "output_type": "execute_result"
    }
   ],
   "source": [
    "df_users.head()"
   ]
  },
  {
   "cell_type": "code",
   "execution_count": 8,
   "metadata": {},
   "outputs": [
    {
     "data": {
      "text/plain": [
       "array([[<Axes: title={'center': 'fantasy'}>,\n",
       "        <Axes: title={'center': 'non_fiction'}>,\n",
       "        <Axes: title={'center': 'mystery'}>,\n",
       "        <Axes: title={'center': 'young_adult'}>],\n",
       "       [<Axes: title={'center': 'graphic'}>,\n",
       "        <Axes: title={'center': 'thriller'}>,\n",
       "        <Axes: title={'center': 'paranormal'}>,\n",
       "        <Axes: title={'center': 'romance'}>],\n",
       "       [<Axes: title={'center': 'history'}>,\n",
       "        <Axes: title={'center': 'biography'}>,\n",
       "        <Axes: title={'center': 'historical_fiction'}>,\n",
       "        <Axes: title={'center': 'comics'}>],\n",
       "       [<Axes: title={'center': 'poetry'}>,\n",
       "        <Axes: title={'center': 'crime'}>,\n",
       "        <Axes: title={'center': 'children'}>,\n",
       "        <Axes: title={'center': 'fiction'}>]], dtype=object)"
      ]
     },
     "execution_count": 8,
     "metadata": {},
     "output_type": "execute_result"
    },
    {
     "data": {
      "image/png": "[encoded data removed]",
      "text/plain": [
       "<Figure size 1500x1500 with 16 Axes>"
      ]
     },
     "metadata": {},
     "output_type": "display_data"
    }
   ],
   "source": [
    "cat_cols = get_categories()\n",
    "df_users[cat_cols].hist(bins=20, figsize=(15, 15))"
   ]
  },
  {
   "cell_type": "code",
   "execution_count": 2,
   "metadata": {},
   "outputs": [
    {
     "name": "stdout",
     "output_type": "stream",
     "text": [
      "Initializing model...\n",
      "\n",
      "Loading data...\n",
      "Dummy data read\n",
      "Model dataframe ready. Interactions: 80167\n",
      "Getting items dataframe...\n"
     ]
    },
    {
     "name": "stderr",
     "output_type": "stream",
     "text": [
      "/Users/javierus/Documents/Delft/Master Thesis/master_thesis/venv/lib/python3.12/site-packages/mesa/time.py:82: FutureWarning: The AgentSet is experimental. It may be changed or removed in any and all future releases, including patch releases.\n",
      "We would love to hear what you think about this new feature. If you have any thoughts, share them with us here: https://github.com/projectmesa/mesa/discussions/1919\n",
      "  self._agents: AgentSet = AgentSet(agents, model)\n"
     ]
    },
    {
     "name": "stdout",
     "output_type": "stream",
     "text": [
      "Items dataframe ready. Items: 45564\n",
      "Getting users dataframe...\n",
      "Users dataframe ready. Users: 100\n",
      "Creating user agents...\n",
      "Users added.\n",
      "Creating item agents...\n",
      "Items added.\n",
      "Finished model initialization.\n"
     ]
    }
   ],
   "source": [
    "rec_sys = RecommenderSystemModel(n_users=100, dummy=True)"
   ]
  },
  {
   "cell_type": "code",
   "execution_count": 3,
   "metadata": {},
   "outputs": [
    {
     "name": "stdout",
     "output_type": "stream",
     "text": [
      "Step 1 executed.\n",
      "Step 2 executed.\n",
      "Step 3 executed.\n",
      "Step 4 executed.\n",
      "Step 5 executed.\n",
      "Step 6 executed.\n",
      "Step 7 executed.\n",
      "Step 8 executed.\n",
      "Step 9 executed.\n",
      "Step 10 executed.\n"
     ]
    }
   ],
   "source": [
    "rec_sys.run_model()"
   ]
  },
  {
   "cell_type": "code",
   "execution_count": 4,
   "metadata": {},
   "outputs": [],
   "source": [
    "d = rec_sys.datacollector.get_agent_vars_dataframe()"
   ]
  },
  {
   "cell_type": "code",
   "execution_count": 5,
   "metadata": {},
   "outputs": [],
   "source": [
    "d.dropna(inplace=True)"
   ]
  },
  {
   "cell_type": "code",
   "execution_count": 6,
   "metadata": {},
   "outputs": [],
   "source": [
    "d[\"vector\"] = d[\"vector\"].apply(lambda x: x[0])\n",
    "expanded_df = d[\"vector\"].apply(pd.Series)"
   ]
  },
  {
   "cell_type": "code",
   "execution_count": 7,
   "metadata": {},
   "outputs": [
    {
     "data": {
      "text/html": [
       "<div>\n",
       "<style scoped>\n",
       "    .dataframe tbody tr th:only-of-type {\n",
       "        vertical-align: middle;\n",
       "    }\n",
       "\n",
       "    .dataframe tbody tr th {\n",
       "        vertical-align: top;\n",
       "    }\n",
       "\n",
       "    .dataframe thead th {\n",
       "        text-align: right;\n",
       "    }\n",
       "</style>\n",
       "<table border=\"1\" class=\"dataframe\">\n",
       "  <thead>\n",
       "    <tr style=\"text-align: right;\">\n",
       "      <th></th>\n",
       "      <th>0</th>\n",
       "      <th>1</th>\n",
       "      <th>2</th>\n",
       "      <th>3</th>\n",
       "      <th>4</th>\n",
       "      <th>5</th>\n",
       "      <th>6</th>\n",
       "      <th>7</th>\n",
       "      <th>8</th>\n",
       "      <th>9</th>\n",
       "      <th>10</th>\n",
       "      <th>11</th>\n",
       "      <th>12</th>\n",
       "      <th>13</th>\n",
       "      <th>14</th>\n",
       "      <th>15</th>\n",
       "    </tr>\n",
       "    <tr>\n",
       "      <th>Step</th>\n",
       "      <th></th>\n",
       "      <th></th>\n",
       "      <th></th>\n",
       "      <th></th>\n",
       "      <th></th>\n",
       "      <th></th>\n",
       "      <th></th>\n",
       "      <th></th>\n",
       "      <th></th>\n",
       "      <th></th>\n",
       "      <th></th>\n",
       "      <th></th>\n",
       "      <th></th>\n",
       "      <th></th>\n",
       "      <th></th>\n",
       "      <th></th>\n",
       "    </tr>\n",
       "  </thead>\n",
       "  <tbody>\n",
       "    <tr>\n",
       "      <th>1</th>\n",
       "      <td>792</td>\n",
       "      <td>1332</td>\n",
       "      <td>714</td>\n",
       "      <td>585</td>\n",
       "      <td>323</td>\n",
       "      <td>714</td>\n",
       "      <td>792</td>\n",
       "      <td>558</td>\n",
       "      <td>1441</td>\n",
       "      <td>1441</td>\n",
       "      <td>1441</td>\n",
       "      <td>323</td>\n",
       "      <td>225</td>\n",
       "      <td>714</td>\n",
       "      <td>536</td>\n",
       "      <td>2036</td>\n",
       "    </tr>\n",
       "    <tr>\n",
       "      <th>2</th>\n",
       "      <td>792</td>\n",
       "      <td>1332</td>\n",
       "      <td>714</td>\n",
       "      <td>585</td>\n",
       "      <td>323</td>\n",
       "      <td>714</td>\n",
       "      <td>792</td>\n",
       "      <td>558</td>\n",
       "      <td>1441</td>\n",
       "      <td>1441</td>\n",
       "      <td>1441</td>\n",
       "      <td>323</td>\n",
       "      <td>225</td>\n",
       "      <td>714</td>\n",
       "      <td>536</td>\n",
       "      <td>2036</td>\n",
       "    </tr>\n",
       "    <tr>\n",
       "      <th>3</th>\n",
       "      <td>792</td>\n",
       "      <td>1332</td>\n",
       "      <td>714</td>\n",
       "      <td>585</td>\n",
       "      <td>323</td>\n",
       "      <td>714</td>\n",
       "      <td>792</td>\n",
       "      <td>558</td>\n",
       "      <td>1441</td>\n",
       "      <td>1441</td>\n",
       "      <td>1441</td>\n",
       "      <td>323</td>\n",
       "      <td>225</td>\n",
       "      <td>714</td>\n",
       "      <td>536</td>\n",
       "      <td>2036</td>\n",
       "    </tr>\n",
       "    <tr>\n",
       "      <th>4</th>\n",
       "      <td>792</td>\n",
       "      <td>1332</td>\n",
       "      <td>714</td>\n",
       "      <td>585</td>\n",
       "      <td>323</td>\n",
       "      <td>714</td>\n",
       "      <td>792</td>\n",
       "      <td>558</td>\n",
       "      <td>1441</td>\n",
       "      <td>1441</td>\n",
       "      <td>1441</td>\n",
       "      <td>323</td>\n",
       "      <td>225</td>\n",
       "      <td>714</td>\n",
       "      <td>536</td>\n",
       "      <td>2036</td>\n",
       "    </tr>\n",
       "    <tr>\n",
       "      <th>5</th>\n",
       "      <td>792</td>\n",
       "      <td>1332</td>\n",
       "      <td>714</td>\n",
       "      <td>585</td>\n",
       "      <td>323</td>\n",
       "      <td>714</td>\n",
       "      <td>792</td>\n",
       "      <td>558</td>\n",
       "      <td>1441</td>\n",
       "      <td>1441</td>\n",
       "      <td>1441</td>\n",
       "      <td>323</td>\n",
       "      <td>225</td>\n",
       "      <td>714</td>\n",
       "      <td>536</td>\n",
       "      <td>2036</td>\n",
       "    </tr>\n",
       "    <tr>\n",
       "      <th>6</th>\n",
       "      <td>792</td>\n",
       "      <td>1332</td>\n",
       "      <td>714</td>\n",
       "      <td>585</td>\n",
       "      <td>323</td>\n",
       "      <td>714</td>\n",
       "      <td>792</td>\n",
       "      <td>558</td>\n",
       "      <td>1441</td>\n",
       "      <td>1441</td>\n",
       "      <td>1441</td>\n",
       "      <td>323</td>\n",
       "      <td>225</td>\n",
       "      <td>714</td>\n",
       "      <td>536</td>\n",
       "      <td>2036</td>\n",
       "    </tr>\n",
       "    <tr>\n",
       "      <th>7</th>\n",
       "      <td>792</td>\n",
       "      <td>1332</td>\n",
       "      <td>714</td>\n",
       "      <td>585</td>\n",
       "      <td>323</td>\n",
       "      <td>714</td>\n",
       "      <td>792</td>\n",
       "      <td>558</td>\n",
       "      <td>1441</td>\n",
       "      <td>1441</td>\n",
       "      <td>1441</td>\n",
       "      <td>323</td>\n",
       "      <td>225</td>\n",
       "      <td>714</td>\n",
       "      <td>536</td>\n",
       "      <td>2036</td>\n",
       "    </tr>\n",
       "    <tr>\n",
       "      <th>8</th>\n",
       "      <td>792</td>\n",
       "      <td>1332</td>\n",
       "      <td>714</td>\n",
       "      <td>585</td>\n",
       "      <td>323</td>\n",
       "      <td>714</td>\n",
       "      <td>792</td>\n",
       "      <td>558</td>\n",
       "      <td>1441</td>\n",
       "      <td>1441</td>\n",
       "      <td>1441</td>\n",
       "      <td>323</td>\n",
       "      <td>225</td>\n",
       "      <td>714</td>\n",
       "      <td>536</td>\n",
       "      <td>2036</td>\n",
       "    </tr>\n",
       "    <tr>\n",
       "      <th>9</th>\n",
       "      <td>792</td>\n",
       "      <td>1332</td>\n",
       "      <td>714</td>\n",
       "      <td>585</td>\n",
       "      <td>323</td>\n",
       "      <td>714</td>\n",
       "      <td>792</td>\n",
       "      <td>558</td>\n",
       "      <td>1441</td>\n",
       "      <td>1441</td>\n",
       "      <td>1441</td>\n",
       "      <td>323</td>\n",
       "      <td>225</td>\n",
       "      <td>714</td>\n",
       "      <td>536</td>\n",
       "      <td>2036</td>\n",
       "    </tr>\n",
       "    <tr>\n",
       "      <th>10</th>\n",
       "      <td>793</td>\n",
       "      <td>1333</td>\n",
       "      <td>714</td>\n",
       "      <td>585</td>\n",
       "      <td>323</td>\n",
       "      <td>714</td>\n",
       "      <td>793</td>\n",
       "      <td>558</td>\n",
       "      <td>1442</td>\n",
       "      <td>1442</td>\n",
       "      <td>1442</td>\n",
       "      <td>323</td>\n",
       "      <td>225</td>\n",
       "      <td>714</td>\n",
       "      <td>536</td>\n",
       "      <td>2037</td>\n",
       "    </tr>\n",
       "  </tbody>\n",
       "</table>\n",
       "</div>"
      ],
      "text/plain": [
       "       0     1    2    3    4    5    6    7     8     9     10   11   12  \\\n",
       "Step                                                                        \n",
       "1     792  1332  714  585  323  714  792  558  1441  1441  1441  323  225   \n",
       "2     792  1332  714  585  323  714  792  558  1441  1441  1441  323  225   \n",
       "3     792  1332  714  585  323  714  792  558  1441  1441  1441  323  225   \n",
       "4     792  1332  714  585  323  714  792  558  1441  1441  1441  323  225   \n",
       "5     792  1332  714  585  323  714  792  558  1441  1441  1441  323  225   \n",
       "6     792  1332  714  585  323  714  792  558  1441  1441  1441  323  225   \n",
       "7     792  1332  714  585  323  714  792  558  1441  1441  1441  323  225   \n",
       "8     792  1332  714  585  323  714  792  558  1441  1441  1441  323  225   \n",
       "9     792  1332  714  585  323  714  792  558  1441  1441  1441  323  225   \n",
       "10    793  1333  714  585  323  714  793  558  1442  1442  1442  323  225   \n",
       "\n",
       "       13   14    15  \n",
       "Step                  \n",
       "1     714  536  2036  \n",
       "2     714  536  2036  \n",
       "3     714  536  2036  \n",
       "4     714  536  2036  \n",
       "5     714  536  2036  \n",
       "6     714  536  2036  \n",
       "7     714  536  2036  \n",
       "8     714  536  2036  \n",
       "9     714  536  2036  \n",
       "10    714  536  2037  "
      ]
     },
     "execution_count": 7,
     "metadata": {},
     "output_type": "execute_result"
    }
   ],
   "source": [
    "odf = expanded_df.xs(34, level=1)\n",
    "odf.head(20)"
   ]
  },
  {
   "cell_type": "code",
   "execution_count": 11,
   "metadata": {},
   "outputs": [
    {
     "data": {
      "text/html": [
       "<div>\n",
       "<style scoped>\n",
       "    .dataframe tbody tr th:only-of-type {\n",
       "        vertical-align: middle;\n",
       "    }\n",
       "\n",
       "    .dataframe tbody tr th {\n",
       "        vertical-align: top;\n",
       "    }\n",
       "\n",
       "    .dataframe thead th {\n",
       "        text-align: right;\n",
       "    }\n",
       "</style>\n",
       "<table border=\"1\" class=\"dataframe\">\n",
       "  <thead>\n",
       "    <tr style=\"text-align: right;\">\n",
       "      <th></th>\n",
       "      <th>0</th>\n",
       "      <th>1</th>\n",
       "      <th>2</th>\n",
       "      <th>3</th>\n",
       "      <th>4</th>\n",
       "      <th>5</th>\n",
       "      <th>6</th>\n",
       "      <th>7</th>\n",
       "      <th>8</th>\n",
       "      <th>9</th>\n",
       "      <th>10</th>\n",
       "      <th>11</th>\n",
       "      <th>12</th>\n",
       "      <th>13</th>\n",
       "      <th>14</th>\n",
       "      <th>15</th>\n",
       "    </tr>\n",
       "    <tr>\n",
       "      <th>AgentID</th>\n",
       "      <th></th>\n",
       "      <th></th>\n",
       "      <th></th>\n",
       "      <th></th>\n",
       "      <th></th>\n",
       "      <th></th>\n",
       "      <th></th>\n",
       "      <th></th>\n",
       "      <th></th>\n",
       "      <th></th>\n",
       "      <th></th>\n",
       "      <th></th>\n",
       "      <th></th>\n",
       "      <th></th>\n",
       "      <th></th>\n",
       "      <th></th>\n",
       "    </tr>\n",
       "  </thead>\n",
       "  <tbody>\n",
       "    <tr>\n",
       "      <th>34</th>\n",
       "      <td>794</td>\n",
       "      <td>1334</td>\n",
       "      <td>715</td>\n",
       "      <td>585</td>\n",
       "      <td>323</td>\n",
       "      <td>715</td>\n",
       "      <td>794</td>\n",
       "      <td>559</td>\n",
       "      <td>1443</td>\n",
       "      <td>1443</td>\n",
       "      <td>1443</td>\n",
       "      <td>323</td>\n",
       "      <td>225</td>\n",
       "      <td>715</td>\n",
       "      <td>536</td>\n",
       "      <td>2038</td>\n",
       "    </tr>\n",
       "  </tbody>\n",
       "</table>\n",
       "</div>"
      ],
      "text/plain": [
       "          0     1    2    3    4    5    6    7     8     9     10   11   12  \\\n",
       "AgentID                                                                        \n",
       "34       794  1334  715  585  323  715  794  559  1443  1443  1443  323  225   \n",
       "\n",
       "          13   14    15  \n",
       "AgentID                  \n",
       "34       715  536  2038  "
      ]
     },
     "execution_count": 11,
     "metadata": {},
     "output_type": "execute_result"
    }
   ],
   "source": [
    "odf[odf.index == 34]"
   ]
  },
  {
   "cell_type": "code",
   "execution_count": 23,
   "metadata": {},
   "outputs": [],
   "source": [
    "from model.agents import UserAgent\n",
    "\n",
    "agents = [a for a in rec_sys.schedule.agents if isinstance(a, UserAgent)]\n",
    "agent = agents[35]"
   ]
  },
  {
   "cell_type": "code",
   "execution_count": 9,
   "metadata": {},
   "outputs": [
    {
     "name": "stdout",
     "output_type": "stream",
     "text": [
      "2\n"
     ]
    }
   ],
   "source": [
    "import numpy as np\n",
    "array = np.array([[1, 2, 3, 3, 3]])\n",
    "print(np.ndarray.argmax(array))"
   ]
  },
  {
   "cell_type": "code",
   "execution_count": 2,
   "metadata": {},
   "outputs": [
    {
     "name": "stdout",
     "output_type": "stream",
     "text": [
      "Results directory created: 2024-04-11_1\n",
      "Results directory created: 2024-04-11_2\n"
     ]
    }
   ],
   "source": [
    "from data.results import Results\n",
    "\n",
    "r1 = Results()\n",
    "r2 = Results()"
   ]
  },
  {
   "cell_type": "code",
   "execution_count": 1,
   "metadata": {},
   "outputs": [],
   "source": [
    "import pandas as pd\n",
    "\n",
    "df = pd.read_csv(\"/Users/javierus/Documents/Delft/Master Thesis/master_thesis/project/data/results/2024-04-24_3/initial_users_1.csv\")"
   ]
  },
  {
   "cell_type": "code",
   "execution_count": 5,
   "metadata": {},
   "outputs": [],
   "source": [
    "df[\"book_length\"] = df[\"book_id\"].apply(len)"
   ]
  },
  {
   "cell_type": "code",
   "execution_count": 8,
   "metadata": {},
   "outputs": [
    {
     "data": {
      "text/plain": [
       "<Axes: >"
      ]
     },
     "execution_count": 8,
     "metadata": {},
     "output_type": "execute_result"
    },
    {
     "data": {
      "image/png": "[encoded data removed]",
      "text/plain": [
       "<Figure size 640x480 with 1 Axes>"
      ]
     },
     "metadata": {},
     "output_type": "display_data"
    }
   ],
   "source": [
    "df[\"book_length\"].hist(bins=20)"
   ]
  },
  {
   "cell_type": "code",
   "execution_count": 8,
   "metadata": {},
   "outputs": [
    {
     "data": {
      "text/plain": [
       "count       150\n",
       "unique        1\n",
       "top       False\n",
       "freq        150\n",
       "Name: ignorant, dtype: object"
      ]
     },
     "execution_count": 8,
     "metadata": {},
     "output_type": "execute_result"
    }
   ],
   "source": [
    "tmp_df = pd.read_csv(\"data/sensitivity/2024-06-05_37/initial_users_1.csv\")\n",
    "tmp_df[\"ignorant\"].describe()"
   ]
  },
  {
   "cell_type": "code",
   "execution_count": 3,
   "metadata": {},
   "outputs": [
    {
     "name": "stdout",
     "output_type": "stream",
     "text": [
      "Standard deviation for max: 319.8186921262316\n",
      "Coefficient of variation for max: 1.5125920999171463\n"
     ]
    },
    {
     "data": {
      "image/png": "[encoded data removed]",
      "text/plain": [
       "<Figure size 1200x800 with 1 Axes>"
      ]
     },
     "metadata": {},
     "output_type": "display_data"
    }
   ],
   "source": [
    "import pandas as pd\n",
    "from utils import plot_book_distribution_by_genre\n",
    "\n",
    "df_items = pd.read_csv(\"data/results/2024-06-06_01/initial_items_1.csv\")\n",
    "plot_book_distribution_by_genre(df_items, stats=\"max\", filtered=False)"
   ]
  },
  {
   "cell_type": "code",
   "execution_count": 6,
   "metadata": {},
   "outputs": [
    {
     "data": {
      "image/png": "[encoded data removed]",
      "text/plain": [
       "<Figure size 640x480 with 1 Axes>"
      ]
     },
     "metadata": {},
     "output_type": "display_data"
    }
   ],
   "source": [
    "from utils import plot_vector_diffs, get_vector_diff_df\n",
    "\n",
    "df1 = get_vector_diff_df(\"data/results/2024-06-06_01/run_raw_1.csv\")\n",
    "\n",
    "plot_vector_diffs(df1, \"#1\")"
   ]
  },
  {
   "cell_type": "code",
   "execution_count": 7,
   "metadata": {},
   "outputs": [
    {
     "data": {
      "image/png": "[encoded data removed]",
      "text/plain": [
       "<Figure size 640x480 with 1 Axes>"
      ]
     },
     "metadata": {},
     "output_type": "display_data"
    }
   ],
   "source": [
    "df2 = get_vector_diff_df(\"data/results/2024-06-06_02/run_raw_1.csv\")\n",
    "\n",
    "plot_vector_diffs(df2, \"#2\")"
   ]
  },
  {
   "cell_type": "code",
   "execution_count": 23,
   "metadata": {},
   "outputs": [
    {
     "name": "stderr",
     "output_type": "stream",
     "text": [
      "/var/folders/3p/_plkqwx54p541zf82rnbzztm0000gn/T/ipykernel_33472/4068733841.py:4: SettingWithCopyWarning: \n",
      "A value is trying to be set on a copy of a slice from a DataFrame.\n",
      "Try using .loc[row_indexer,col_indexer] = value instead\n",
      "\n",
      "See the caveats in the documentation: https://pandas.pydata.org/pandas-docs/stable/user_guide/indexing.html#returning-a-view-versus-a-copy\n",
      "  df_filtered[\"books_read\"] = df_filtered[\"user_books_consumed\"].apply(ast.literal_eval).apply(len)\n"
     ]
    },
    {
     "data": {
      "text/plain": [
       "150"
      ]
     },
     "execution_count": 23,
     "metadata": {},
     "output_type": "execute_result"
    }
   ],
   "source": [
    "import ast\n",
    "def get_books_read(df: pd.DataFrame) -> pd.DataFrame:\n",
    "    df_filtered = df[df[\"agent_type\"] == \"UserAgent\"]\n",
    "    df_filtered[\"books_read\"] = df_filtered[\"user_books_consumed\"].apply(ast.literal_eval).apply(len)\n",
    "    df_filtered = df_filtered.sort_values(by=[\"AgentID\", \"Step\"])\n",
    "    df_grouped = df_filtered.groupby(\"AgentID\").last()[\"books_read\"].reset_index()\n",
    "    return df_grouped\n",
    "df_items = pd.read_csv(\"data/results/2024-06-19_03/run_raw_1.csv\")\n",
    "df = get_books_read(df_items)\n",
    "len(df)"
   ]
  },
  {
   "cell_type": "code",
   "execution_count": 32,
   "metadata": {},
   "outputs": [],
   "source": [
    "import pandas as pd\n",
    "import ast\n",
    "import os\n",
    "import seaborn as sns\n",
    "import warnings\n",
    "import matplotlib.pyplot as plt\n",
    "warnings.filterwarnings(\"ignore\")\n",
    "\n",
    "df_items = pd.read_csv(\"data/results/2024-06-19_01/initial_items_1.csv\")\n",
    "\n",
    "def get_most_read_books(model):\n",
    "    results = []\n",
    "    base_path = \"data/results\"\n",
    "    runs = sorted(os.listdir(base_path))\n",
    "    runs.pop(0)\n",
    "    if model == \"benchmark\":\n",
    "        start = 0\n",
    "        stop = 20\n",
    "    elif model == \"covert\":\n",
    "        start = 20\n",
    "        stop = 40\n",
    "    elif model == \"overt\":\n",
    "        start = 40\n",
    "        stop = 60\n",
    "    elif model == \"overt_w_si\":\n",
    "        start = 60\n",
    "        stop = 80\n",
    "    for i in range(start, stop):\n",
    "        full_path = os.path.join(base_path, runs[i], \"run_raw_1.csv\")\n",
    "        df = pd.read_csv(full_path)\n",
    "        dff = df[df[\"agent_type\"] == \"UserAgent\"]\n",
    "        dff[\"user_books_consumed\"] = dff[\"user_books_consumed\"].apply(ast.literal_eval)\n",
    "        dff = dff.sort_values(by=[\"AgentID\", \"Step\"])\n",
    "        dff_count = dff.groupby(\"AgentID\").last()[\"user_books_consumed\"].reset_index()[\"user_books_consumed\"].explode().value_counts().reset_index()\n",
    "        results.append(dff_count)\n",
    "        print(i, end=\"\\r\")\n",
    "    result = pd.concat(results)\n",
    "    result = result.groupby(\"user_books_consumed\")[\"count\"].mean().reset_index().sort_values(by=[\"count\"], ascending=False)\n",
    "    return result\n",
    "\n",
    "from utils import *\n",
    "\n",
    "def top_indices(x):\n",
    "    unique_values = np.unique(x)[::-1]\n",
    "    top_indices = []\n",
    "    cats = get_categories()\n",
    "    for value in unique_values[:3]: \n",
    "        indices = np.where(x == value)\n",
    "        top_indices.append(list(indices[0]))\n",
    "\n",
    "    while len(top_indices) < 3:\n",
    "        top_indices.append(None)\n",
    "    \n",
    "    return [[cats[index] for index in sublist] for sublist in top_indices]"
   ]
  },
  {
   "cell_type": "code",
   "execution_count": 33,
   "metadata": {},
   "outputs": [
    {
     "name": "stdout",
     "output_type": "stream",
     "text": [
      "19\r"
     ]
    },
    {
     "data": {
      "text/html": [
       "<div>\n",
       "<style scoped>\n",
       "    .dataframe tbody tr th:only-of-type {\n",
       "        vertical-align: middle;\n",
       "    }\n",
       "\n",
       "    .dataframe tbody tr th {\n",
       "        vertical-align: top;\n",
       "    }\n",
       "\n",
       "    .dataframe thead th {\n",
       "        text-align: right;\n",
       "    }\n",
       "</style>\n",
       "<table border=\"1\" class=\"dataframe\">\n",
       "  <thead>\n",
       "    <tr style=\"text-align: right;\">\n",
       "      <th></th>\n",
       "      <th>user_books_consumed</th>\n",
       "      <th>count</th>\n",
       "    </tr>\n",
       "  </thead>\n",
       "  <tbody>\n",
       "    <tr>\n",
       "      <th>253</th>\n",
       "      <td>123504</td>\n",
       "      <td>84.60</td>\n",
       "    </tr>\n",
       "    <tr>\n",
       "      <th>306</th>\n",
       "      <td>799266</td>\n",
       "      <td>83.05</td>\n",
       "    </tr>\n",
       "    <tr>\n",
       "      <th>48</th>\n",
       "      <td>3974</td>\n",
       "      <td>79.10</td>\n",
       "    </tr>\n",
       "    <tr>\n",
       "      <th>268</th>\n",
       "      <td>189967</td>\n",
       "      <td>68.00</td>\n",
       "    </tr>\n",
       "    <tr>\n",
       "      <th>309</th>\n",
       "      <td>1019881</td>\n",
       "      <td>67.20</td>\n",
       "    </tr>\n",
       "  </tbody>\n",
       "</table>\n",
       "</div>"
      ],
      "text/plain": [
       "     user_books_consumed  count\n",
       "253               123504  84.60\n",
       "306               799266  83.05\n",
       "48                  3974  79.10\n",
       "268               189967  68.00\n",
       "309              1019881  67.20"
      ]
     },
     "execution_count": 33,
     "metadata": {},
     "output_type": "execute_result"
    }
   ],
   "source": [
    "rbb = get_most_read_books(\"benchmark\")\n",
    "rbb = rbb.sort_values(by=[\"count\"], ascending=False)\n",
    "top3b = rbb.head(3)[\"user_books_consumed\"].tolist()\n",
    "rbb.head()"
   ]
  },
  {
   "cell_type": "code",
   "execution_count": 34,
   "metadata": {},
   "outputs": [
    {
     "data": {
      "text/html": [
       "<div>\n",
       "<style scoped>\n",
       "    .dataframe tbody tr th:only-of-type {\n",
       "        vertical-align: middle;\n",
       "    }\n",
       "\n",
       "    .dataframe tbody tr th {\n",
       "        vertical-align: top;\n",
       "    }\n",
       "\n",
       "    .dataframe thead th {\n",
       "        text-align: right;\n",
       "    }\n",
       "</style>\n",
       "<table border=\"1\" class=\"dataframe\">\n",
       "  <thead>\n",
       "    <tr style=\"text-align: right;\">\n",
       "      <th></th>\n",
       "      <th>book_id</th>\n",
       "      <th>is_read</th>\n",
       "      <th>rating</th>\n",
       "      <th>is_reviewed</th>\n",
       "      <th>vector</th>\n",
       "      <th>priority</th>\n",
       "      <th>unique_id</th>\n",
       "      <th>new</th>\n",
       "    </tr>\n",
       "  </thead>\n",
       "  <tbody>\n",
       "    <tr>\n",
       "      <th>327</th>\n",
       "      <td>3974</td>\n",
       "      <td>2</td>\n",
       "      <td>0.6</td>\n",
       "      <td>0</td>\n",
       "      <td>[[ 258.    8.  300.    0.    0.  300.  258.   ...</td>\n",
       "      <td>0</td>\n",
       "      <td>478</td>\n",
       "      <td>[[fiction], [history, biography, historical_fi...</td>\n",
       "    </tr>\n",
       "    <tr>\n",
       "      <th>2583</th>\n",
       "      <td>123504</td>\n",
       "      <td>0</td>\n",
       "      <td>0.0</td>\n",
       "      <td>0</td>\n",
       "      <td>[[ 7.  0.  4.  0.  0.  4.  7.  1. 11. 11. 11. ...</td>\n",
       "      <td>0</td>\n",
       "      <td>2734</td>\n",
       "      <td>[[fiction], [history, biography, historical_fi...</td>\n",
       "    </tr>\n",
       "    <tr>\n",
       "      <th>3242</th>\n",
       "      <td>799266</td>\n",
       "      <td>0</td>\n",
       "      <td>0.0</td>\n",
       "      <td>0</td>\n",
       "      <td>[[2. 1. 1. 0. 0. 1. 2. 0. 2. 2. 2. 0. 0. 1. 0....</td>\n",
       "      <td>0</td>\n",
       "      <td>3393</td>\n",
       "      <td>[[fiction], [fantasy, paranormal, history, bio...</td>\n",
       "    </tr>\n",
       "  </tbody>\n",
       "</table>\n",
       "</div>"
      ],
      "text/plain": [
       "      book_id  is_read  rating  is_reviewed  \\\n",
       "327      3974        2     0.6            0   \n",
       "2583   123504        0     0.0            0   \n",
       "3242   799266        0     0.0            0   \n",
       "\n",
       "                                                 vector  priority  unique_id  \\\n",
       "327   [[ 258.    8.  300.    0.    0.  300.  258.   ...         0        478   \n",
       "2583  [[ 7.  0.  4.  0.  0.  4.  7.  1. 11. 11. 11. ...         0       2734   \n",
       "3242  [[2. 1. 1. 0. 0. 1. 2. 0. 2. 2. 2. 0. 0. 1. 0....         0       3393   \n",
       "\n",
       "                                                    new  \n",
       "327   [[fiction], [history, biography, historical_fi...  \n",
       "2583  [[fiction], [history, biography, historical_fi...  \n",
       "3242  [[fiction], [fantasy, paranormal, history, bio...  "
      ]
     },
     "execution_count": 34,
     "metadata": {},
     "output_type": "execute_result"
    }
   ],
   "source": [
    "top3itemsb = df_items[df_items[\"book_id\"].isin(top3b)]\n",
    "top3itemsb[\"new\"] = top3itemsb[\"vector\"].apply(string_to_array).apply(lambda x: normalize_vector(x.flatten())).apply(top_indices)\n",
    "top3itemsb.head()"
   ]
  },
  {
   "cell_type": "code",
   "execution_count": 35,
   "metadata": {},
   "outputs": [
    {
     "name": "stdout",
     "output_type": "stream",
     "text": [
      "39\r"
     ]
    },
    {
     "data": {
      "text/html": [
       "<div>\n",
       "<style scoped>\n",
       "    .dataframe tbody tr th:only-of-type {\n",
       "        vertical-align: middle;\n",
       "    }\n",
       "\n",
       "    .dataframe tbody tr th {\n",
       "        vertical-align: top;\n",
       "    }\n",
       "\n",
       "    .dataframe thead th {\n",
       "        text-align: right;\n",
       "    }\n",
       "</style>\n",
       "<table border=\"1\" class=\"dataframe\">\n",
       "  <thead>\n",
       "    <tr style=\"text-align: right;\">\n",
       "      <th></th>\n",
       "      <th>user_books_consumed</th>\n",
       "      <th>count</th>\n",
       "    </tr>\n",
       "  </thead>\n",
       "  <tbody>\n",
       "    <tr>\n",
       "      <th>1</th>\n",
       "      <td>205</td>\n",
       "      <td>141.45</td>\n",
       "    </tr>\n",
       "    <tr>\n",
       "      <th>2</th>\n",
       "      <td>218</td>\n",
       "      <td>136.95</td>\n",
       "    </tr>\n",
       "    <tr>\n",
       "      <th>3</th>\n",
       "      <td>228</td>\n",
       "      <td>130.35</td>\n",
       "    </tr>\n",
       "    <tr>\n",
       "      <th>4</th>\n",
       "      <td>229</td>\n",
       "      <td>121.50</td>\n",
       "    </tr>\n",
       "    <tr>\n",
       "      <th>6</th>\n",
       "      <td>915</td>\n",
       "      <td>115.40</td>\n",
       "    </tr>\n",
       "  </tbody>\n",
       "</table>\n",
       "</div>"
      ],
      "text/plain": [
       "   user_books_consumed   count\n",
       "1                  205  141.45\n",
       "2                  218  136.95\n",
       "3                  228  130.35\n",
       "4                  229  121.50\n",
       "6                  915  115.40"
      ]
     },
     "execution_count": 35,
     "metadata": {},
     "output_type": "execute_result"
    }
   ],
   "source": [
    "rbc = get_most_read_books(\"covert\")\n",
    "rbc = rbc.sort_values(by=[\"count\"], ascending=False)\n",
    "top3c = rbc.head(3)[\"user_books_consumed\"].tolist()\n",
    "rbc.head()"
   ]
  },
  {
   "cell_type": "code",
   "execution_count": 36,
   "metadata": {},
   "outputs": [
    {
     "data": {
      "text/html": [
       "<div>\n",
       "<style scoped>\n",
       "    .dataframe tbody tr th:only-of-type {\n",
       "        vertical-align: middle;\n",
       "    }\n",
       "\n",
       "    .dataframe tbody tr th {\n",
       "        vertical-align: top;\n",
       "    }\n",
       "\n",
       "    .dataframe thead th {\n",
       "        text-align: right;\n",
       "    }\n",
       "</style>\n",
       "<table border=\"1\" class=\"dataframe\">\n",
       "  <thead>\n",
       "    <tr style=\"text-align: right;\">\n",
       "      <th></th>\n",
       "      <th>book_id</th>\n",
       "      <th>is_read</th>\n",
       "      <th>rating</th>\n",
       "      <th>is_reviewed</th>\n",
       "      <th>vector</th>\n",
       "      <th>priority</th>\n",
       "      <th>unique_id</th>\n",
       "      <th>new</th>\n",
       "    </tr>\n",
       "  </thead>\n",
       "  <tbody>\n",
       "    <tr>\n",
       "      <th>23</th>\n",
       "      <td>205</td>\n",
       "      <td>1</td>\n",
       "      <td>0.6</td>\n",
       "      <td>0</td>\n",
       "      <td>[[  0.   0. 284.   0.   0. 284.   0.   0. 135....</td>\n",
       "      <td>0</td>\n",
       "      <td>174</td>\n",
       "      <td>[[mystery, thriller, crime], [history, biograp...</td>\n",
       "    </tr>\n",
       "    <tr>\n",
       "      <th>25</th>\n",
       "      <td>218</td>\n",
       "      <td>1</td>\n",
       "      <td>1.0</td>\n",
       "      <td>0</td>\n",
       "      <td>[[ 0.  0. 46.  0.  0. 46.  0.  0.  0.  0.  0. ...</td>\n",
       "      <td>0</td>\n",
       "      <td>176</td>\n",
       "      <td>[[mystery, thriller, crime], [fiction], [fanta...</td>\n",
       "    </tr>\n",
       "    <tr>\n",
       "      <th>26</th>\n",
       "      <td>228</td>\n",
       "      <td>0</td>\n",
       "      <td>0.0</td>\n",
       "      <td>0</td>\n",
       "      <td>[[ 0.  1. 37.  0.  0. 37.  0.  0.  0.  0.  0. ...</td>\n",
       "      <td>0</td>\n",
       "      <td>177</td>\n",
       "      <td>[[mystery, thriller, crime], [fiction], [non_f...</td>\n",
       "    </tr>\n",
       "  </tbody>\n",
       "</table>\n",
       "</div>"
      ],
      "text/plain": [
       "    book_id  is_read  rating  is_reviewed  \\\n",
       "23      205        1     0.6            0   \n",
       "25      218        1     1.0            0   \n",
       "26      228        0     0.0            0   \n",
       "\n",
       "                                               vector  priority  unique_id  \\\n",
       "23  [[  0.   0. 284.   0.   0. 284.   0.   0. 135....         0        174   \n",
       "25  [[ 0.  0. 46.  0.  0. 46.  0.  0.  0.  0.  0. ...         0        176   \n",
       "26  [[ 0.  1. 37.  0.  0. 37.  0.  0.  0.  0.  0. ...         0        177   \n",
       "\n",
       "                                                  new  \n",
       "23  [[mystery, thriller, crime], [history, biograp...  \n",
       "25  [[mystery, thriller, crime], [fiction], [fanta...  \n",
       "26  [[mystery, thriller, crime], [fiction], [non_f...  "
      ]
     },
     "execution_count": 36,
     "metadata": {},
     "output_type": "execute_result"
    }
   ],
   "source": [
    "top3itemsc = df_items[df_items[\"book_id\"].isin(top3c)]\n",
    "top3itemsc[\"new\"] = top3itemsc[\"vector\"].apply(string_to_array).apply(lambda x: normalize_vector(x.flatten())).apply(top_indices)\n",
    "top3itemsc.head()"
   ]
  },
  {
   "cell_type": "code",
   "execution_count": 37,
   "metadata": {},
   "outputs": [
    {
     "name": "stdout",
     "output_type": "stream",
     "text": [
      "59\r"
     ]
    },
    {
     "data": {
      "text/html": [
       "<div>\n",
       "<style scoped>\n",
       "    .dataframe tbody tr th:only-of-type {\n",
       "        vertical-align: middle;\n",
       "    }\n",
       "\n",
       "    .dataframe tbody tr th {\n",
       "        vertical-align: top;\n",
       "    }\n",
       "\n",
       "    .dataframe thead th {\n",
       "        text-align: right;\n",
       "    }\n",
       "</style>\n",
       "<table border=\"1\" class=\"dataframe\">\n",
       "  <thead>\n",
       "    <tr style=\"text-align: right;\">\n",
       "      <th></th>\n",
       "      <th>user_books_consumed</th>\n",
       "      <th>count</th>\n",
       "    </tr>\n",
       "  </thead>\n",
       "  <tbody>\n",
       "    <tr>\n",
       "      <th>284</th>\n",
       "      <td>123504</td>\n",
       "      <td>68.55</td>\n",
       "    </tr>\n",
       "    <tr>\n",
       "      <th>334</th>\n",
       "      <td>799266</td>\n",
       "      <td>68.40</td>\n",
       "    </tr>\n",
       "    <tr>\n",
       "      <th>55</th>\n",
       "      <td>3974</td>\n",
       "      <td>65.80</td>\n",
       "    </tr>\n",
       "    <tr>\n",
       "      <th>337</th>\n",
       "      <td>1019881</td>\n",
       "      <td>54.80</td>\n",
       "    </tr>\n",
       "    <tr>\n",
       "      <th>299</th>\n",
       "      <td>189967</td>\n",
       "      <td>53.60</td>\n",
       "    </tr>\n",
       "  </tbody>\n",
       "</table>\n",
       "</div>"
      ],
      "text/plain": [
       "     user_books_consumed  count\n",
       "284               123504  68.55\n",
       "334               799266  68.40\n",
       "55                  3974  65.80\n",
       "337              1019881  54.80\n",
       "299               189967  53.60"
      ]
     },
     "execution_count": 37,
     "metadata": {},
     "output_type": "execute_result"
    }
   ],
   "source": [
    "rbo = get_most_read_books(\"overt\")\n",
    "rbo = rbo.sort_values(by=[\"count\"], ascending=False)\n",
    "top3o = rbo.head(3)[\"user_books_consumed\"].tolist()\n",
    "rbo.head()"
   ]
  },
  {
   "cell_type": "code",
   "execution_count": 38,
   "metadata": {},
   "outputs": [
    {
     "data": {
      "text/html": [
       "<div>\n",
       "<style scoped>\n",
       "    .dataframe tbody tr th:only-of-type {\n",
       "        vertical-align: middle;\n",
       "    }\n",
       "\n",
       "    .dataframe tbody tr th {\n",
       "        vertical-align: top;\n",
       "    }\n",
       "\n",
       "    .dataframe thead th {\n",
       "        text-align: right;\n",
       "    }\n",
       "</style>\n",
       "<table border=\"1\" class=\"dataframe\">\n",
       "  <thead>\n",
       "    <tr style=\"text-align: right;\">\n",
       "      <th></th>\n",
       "      <th>book_id</th>\n",
       "      <th>is_read</th>\n",
       "      <th>rating</th>\n",
       "      <th>is_reviewed</th>\n",
       "      <th>vector</th>\n",
       "      <th>priority</th>\n",
       "      <th>unique_id</th>\n",
       "      <th>new</th>\n",
       "    </tr>\n",
       "  </thead>\n",
       "  <tbody>\n",
       "    <tr>\n",
       "      <th>327</th>\n",
       "      <td>3974</td>\n",
       "      <td>2</td>\n",
       "      <td>0.6</td>\n",
       "      <td>0</td>\n",
       "      <td>[[ 258.    8.  300.    0.    0.  300.  258.   ...</td>\n",
       "      <td>0</td>\n",
       "      <td>478</td>\n",
       "      <td>[[fiction], [history, biography, historical_fi...</td>\n",
       "    </tr>\n",
       "    <tr>\n",
       "      <th>2583</th>\n",
       "      <td>123504</td>\n",
       "      <td>0</td>\n",
       "      <td>0.0</td>\n",
       "      <td>0</td>\n",
       "      <td>[[ 7.  0.  4.  0.  0.  4.  7.  1. 11. 11. 11. ...</td>\n",
       "      <td>0</td>\n",
       "      <td>2734</td>\n",
       "      <td>[[fiction], [history, biography, historical_fi...</td>\n",
       "    </tr>\n",
       "    <tr>\n",
       "      <th>3242</th>\n",
       "      <td>799266</td>\n",
       "      <td>0</td>\n",
       "      <td>0.0</td>\n",
       "      <td>0</td>\n",
       "      <td>[[2. 1. 1. 0. 0. 1. 2. 0. 2. 2. 2. 0. 0. 1. 0....</td>\n",
       "      <td>0</td>\n",
       "      <td>3393</td>\n",
       "      <td>[[fiction], [fantasy, paranormal, history, bio...</td>\n",
       "    </tr>\n",
       "  </tbody>\n",
       "</table>\n",
       "</div>"
      ],
      "text/plain": [
       "      book_id  is_read  rating  is_reviewed  \\\n",
       "327      3974        2     0.6            0   \n",
       "2583   123504        0     0.0            0   \n",
       "3242   799266        0     0.0            0   \n",
       "\n",
       "                                                 vector  priority  unique_id  \\\n",
       "327   [[ 258.    8.  300.    0.    0.  300.  258.   ...         0        478   \n",
       "2583  [[ 7.  0.  4.  0.  0.  4.  7.  1. 11. 11. 11. ...         0       2734   \n",
       "3242  [[2. 1. 1. 0. 0. 1. 2. 0. 2. 2. 2. 0. 0. 1. 0....         0       3393   \n",
       "\n",
       "                                                    new  \n",
       "327   [[fiction], [history, biography, historical_fi...  \n",
       "2583  [[fiction], [history, biography, historical_fi...  \n",
       "3242  [[fiction], [fantasy, paranormal, history, bio...  "
      ]
     },
     "execution_count": 38,
     "metadata": {},
     "output_type": "execute_result"
    }
   ],
   "source": [
    "top3itemso = df_items[df_items[\"book_id\"].isin(top3o)]\n",
    "top3itemso[\"new\"] = top3itemso[\"vector\"].apply(string_to_array).apply(lambda x: normalize_vector(x.flatten())).apply(top_indices)\n",
    "top3itemso.head()"
   ]
  },
  {
   "cell_type": "code",
   "execution_count": 39,
   "metadata": {},
   "outputs": [
    {
     "name": "stdout",
     "output_type": "stream",
     "text": [
      "79\r"
     ]
    },
    {
     "data": {
      "text/html": [
       "<div>\n",
       "<style scoped>\n",
       "    .dataframe tbody tr th:only-of-type {\n",
       "        vertical-align: middle;\n",
       "    }\n",
       "\n",
       "    .dataframe tbody tr th {\n",
       "        vertical-align: top;\n",
       "    }\n",
       "\n",
       "    .dataframe thead th {\n",
       "        text-align: right;\n",
       "    }\n",
       "</style>\n",
       "<table border=\"1\" class=\"dataframe\">\n",
       "  <thead>\n",
       "    <tr style=\"text-align: right;\">\n",
       "      <th></th>\n",
       "      <th>user_books_consumed</th>\n",
       "      <th>count</th>\n",
       "    </tr>\n",
       "  </thead>\n",
       "  <tbody>\n",
       "    <tr>\n",
       "      <th>73</th>\n",
       "      <td>14831</td>\n",
       "      <td>110.70</td>\n",
       "    </tr>\n",
       "    <tr>\n",
       "      <th>0</th>\n",
       "      <td>205</td>\n",
       "      <td>105.60</td>\n",
       "    </tr>\n",
       "    <tr>\n",
       "      <th>153</th>\n",
       "      <td>799266</td>\n",
       "      <td>102.55</td>\n",
       "    </tr>\n",
       "    <tr>\n",
       "      <th>135</th>\n",
       "      <td>123504</td>\n",
       "      <td>102.35</td>\n",
       "    </tr>\n",
       "    <tr>\n",
       "      <th>30</th>\n",
       "      <td>3974</td>\n",
       "      <td>98.95</td>\n",
       "    </tr>\n",
       "  </tbody>\n",
       "</table>\n",
       "</div>"
      ],
      "text/plain": [
       "     user_books_consumed   count\n",
       "73                 14831  110.70\n",
       "0                    205  105.60\n",
       "153               799266  102.55\n",
       "135               123504  102.35\n",
       "30                  3974   98.95"
      ]
     },
     "execution_count": 39,
     "metadata": {},
     "output_type": "execute_result"
    }
   ],
   "source": [
    "rbow = get_most_read_books(\"overt_w_si\")\n",
    "rbow = rbow.sort_values(by=[\"count\"], ascending=False)\n",
    "top3ow = rbow.head(3)[\"user_books_consumed\"].tolist()\n",
    "rbow.head()"
   ]
  },
  {
   "cell_type": "code",
   "execution_count": 47,
   "metadata": {},
   "outputs": [
    {
     "data": {
      "text/html": [
       "<div>\n",
       "<style scoped>\n",
       "    .dataframe tbody tr th:only-of-type {\n",
       "        vertical-align: middle;\n",
       "    }\n",
       "\n",
       "    .dataframe tbody tr th {\n",
       "        vertical-align: top;\n",
       "    }\n",
       "\n",
       "    .dataframe thead th {\n",
       "        text-align: right;\n",
       "    }\n",
       "</style>\n",
       "<table border=\"1\" class=\"dataframe\">\n",
       "  <thead>\n",
       "    <tr style=\"text-align: right;\">\n",
       "      <th></th>\n",
       "      <th>book_id</th>\n",
       "      <th>is_read</th>\n",
       "      <th>rating</th>\n",
       "      <th>is_reviewed</th>\n",
       "      <th>vector</th>\n",
       "      <th>priority</th>\n",
       "      <th>unique_id</th>\n",
       "      <th>new</th>\n",
       "    </tr>\n",
       "  </thead>\n",
       "  <tbody>\n",
       "    <tr>\n",
       "      <th>23</th>\n",
       "      <td>205</td>\n",
       "      <td>1</td>\n",
       "      <td>0.6</td>\n",
       "      <td>0</td>\n",
       "      <td>[[  0.   0. 284.   0.   0. 284.   0.   0. 135....</td>\n",
       "      <td>0</td>\n",
       "      <td>174</td>\n",
       "      <td>[[mystery, thriller, crime], [history, biograp...</td>\n",
       "    </tr>\n",
       "    <tr>\n",
       "      <th>886</th>\n",
       "      <td>14831</td>\n",
       "      <td>2</td>\n",
       "      <td>0.8</td>\n",
       "      <td>0</td>\n",
       "      <td>[[ 3. 20.  0.  0.  2.  0.  3.  2. 20. 20. 20. ...</td>\n",
       "      <td>0</td>\n",
       "      <td>1037</td>\n",
       "      <td>[[non_fiction, history, biography, historical_...</td>\n",
       "    </tr>\n",
       "    <tr>\n",
       "      <th>3242</th>\n",
       "      <td>799266</td>\n",
       "      <td>0</td>\n",
       "      <td>0.0</td>\n",
       "      <td>0</td>\n",
       "      <td>[[2. 1. 1. 0. 0. 1. 2. 0. 2. 2. 2. 0. 0. 1. 0....</td>\n",
       "      <td>0</td>\n",
       "      <td>3393</td>\n",
       "      <td>[[fiction], [fantasy, paranormal, history, bio...</td>\n",
       "    </tr>\n",
       "  </tbody>\n",
       "</table>\n",
       "</div>"
      ],
      "text/plain": [
       "      book_id  is_read  rating  is_reviewed  \\\n",
       "23        205        1     0.6            0   \n",
       "886     14831        2     0.8            0   \n",
       "3242   799266        0     0.0            0   \n",
       "\n",
       "                                                 vector  priority  unique_id  \\\n",
       "23    [[  0.   0. 284.   0.   0. 284.   0.   0. 135....         0        174   \n",
       "886   [[ 3. 20.  0.  0.  2.  0.  3.  2. 20. 20. 20. ...         0       1037   \n",
       "3242  [[2. 1. 1. 0. 0. 1. 2. 0. 2. 2. 2. 0. 0. 1. 0....         0       3393   \n",
       "\n",
       "                                                    new  \n",
       "23    [[mystery, thriller, crime], [history, biograp...  \n",
       "886   [[non_fiction, history, biography, historical_...  \n",
       "3242  [[fiction], [fantasy, paranormal, history, bio...  "
      ]
     },
     "execution_count": 47,
     "metadata": {},
     "output_type": "execute_result"
    }
   ],
   "source": [
    "top3itemsow = df_items[df_items[\"book_id\"].isin(top3ow)]\n",
    "top3itemsow[\"new\"] = top3itemsow[\"vector\"].apply(string_to_array).apply(lambda x: normalize_vector(x.flatten())).apply(top_indices)\n",
    "top3itemsow.head()"
   ]
  },
  {
   "cell_type": "code",
   "execution_count": 54,
   "metadata": {},
   "outputs": [
    {
     "name": "stdout",
     "output_type": "stream",
     "text": [
      "[['non_fiction', 'history', 'biography', 'historical_fiction'], ['fiction'], ['fantasy', 'paranormal']]\n"
     ]
    }
   ],
   "source": [
    "k = top3itemsow.iloc[[1]][\"new\"]\n",
    "for e in k:\n",
    "    print(e)"
   ]
  }
 ],
 "metadata": {
  "kernelspec": {
   "display_name": "Python 3.12.2 ('venv': venv)",
   "language": "python",
   "name": "python3"
  },
  "language_info": {
   "codemirror_mode": {
    "name": "ipython",
    "version": 3
   },
   "file_extension": ".py",
   "mimetype": "text/x-python",
   "name": "python",
   "nbconvert_exporter": "python",
   "pygments_lexer": "ipython3",
   "version": "3.12.2"
  },
  "orig_nbformat": 4,
  "vscode": {
   "interpreter": {
    "hash": "2615d48ab7febd4aeeb3e3da73dc9ba6ab080c60069f72e5d99f57c0f1c2fd0c"
   }
  }
 },
 "nbformat": 4,
 "nbformat_minor": 2
}
